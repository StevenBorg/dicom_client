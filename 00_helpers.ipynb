{
 "cells": [
  {
   "cell_type": "code",
   "execution_count": null,
   "metadata": {},
   "outputs": [],
   "source": [
    "# default_exp helpers"
   ]
  },
  {
   "cell_type": "markdown",
   "metadata": {},
   "source": [
    "# Helpers\n",
    "\n",
    "> Working with a DICOMweb API endpoint can involve a number of steps. This module provides helper functions. "
   ]
  },
  {
   "cell_type": "code",
   "execution_count": null,
   "metadata": {},
   "outputs": [],
   "source": [
    "#hide\n",
    "from nbdev.showdoc import *"
   ]
  },
  {
   "cell_type": "markdown",
   "metadata": {},
   "source": [
    "The Python Requests and HTTPX libraries do not natively support passing files as multipart/related in an HTTP request. Thus we need to create a helper function to encode a group of 'fields' (or files) in a body with portions separated with an appropriate boudary.  We can use the urllib3 library to provide much of the needed functionality."
   ]
  },
  {
   "cell_type": "code",
   "execution_count": null,
   "metadata": {},
   "outputs": [],
   "source": [
    "#export\n",
    "from urllib3.filepost import encode_multipart_formdata, choose_boundary\n",
    "\n",
    "def encode_multipart_related(fields, boundary=None):\n",
    "    if boundary is None:\n",
    "        boundary = choose_boundary()\n",
    "\n",
    "    body, _ = encode_multipart_formdata(fields, boundary)\n",
    "    content_type = str('multipart/related; boundary=%s' % boundary)\n",
    "\n",
    "    return body, content_type"
   ]
  },
  {
   "cell_type": "markdown",
   "metadata": {},
   "source": [
    "The DICOMweb standard provides a number of different REST endpoints that allow for efficient retrieval of DICOM metadata and image data. There is a firm structure for how you must query data, however. If you are interested in retrieving metadata about a Series (for instance), you must also pass the parent Study. To retrieve a list of Frames, you must pass the Study, Series and Instance that 'parent' the frames."
   ]
  },
  {
   "cell_type": "code",
   "execution_count": null,
   "metadata": {},
   "outputs": [],
   "source": [
    "#export\n",
    "def construct_dicom_url_path(study_uid, series_uid = None, instance_uid = None, frames = None):        \n",
    "    #if frames has a value, it's a single item or a list (which must be separated by commas)\n",
    "    #  also, we must then also have a study, series and instance, \n",
    "    if frames:\n",
    "        frame_string = ''\n",
    "        if type(frames) is list:\n",
    "            # iterate and separate with commas\n",
    "            frame_string = \",\".join(l)\n",
    "        else:\n",
    "            frame_string = frames\n",
    "        return f'/studies/{study_uid}/series/{series_uid}/instances/{instance_uid}/frames/{frame_string}'\n",
    "\n",
    "    #likewise, if frames=None and instance_uid exists, we must have study and series\n",
    "    if instance_uid:\n",
    "        return f'/studies/{study_uid}/series/{series_uid}/instances/{instance_uid}'\n",
    "\n",
    "    #and so on with series\n",
    "    if series_uid:\n",
    "        return f'/studies/{study_uid}/series/{series_uid}'\n",
    "\n",
    "    #must have at least the study\n",
    "    return f'/studies/{study_uid}'"
   ]
  },
  {
   "cell_type": "markdown",
   "metadata": {},
   "source": [
    "Likewise, when we are retrieving data, we must pass the correct header. We want to retrieve Frames as an octet-stream, Instances as application/dicom objects, and Series/Studies as multipart."
   ]
  },
  {
   "cell_type": "markdown",
   "metadata": {},
   "source": [
    "> TODO: This function currently assumes that the transfer-sytax is *. Update to support additional transfer syntaxes. Also note that * is NOT part of the DICOM standard, but is widely accepted by DICOMweb endpoints to return images in whatever encoding the image was initially provided."
   ]
  },
  {
   "cell_type": "code",
   "execution_count": null,
   "metadata": {},
   "outputs": [],
   "source": [
    "#export\n",
    "def construct_retrieve_header(self, study_uid, series_uid = None, instance_uid = None, frames = None):\n",
    "\n",
    "    #if frames has a value, it's a single item or a list (which must be separated by commas)\n",
    "    #  also, we must them have a study, series and instance, \n",
    "    if frames:\n",
    "        return {'Accept':'multipart/related; type=\"application/octet-stream\"; transfer-syntax=*'}\n",
    "\n",
    "    #likewise, if frames=None and instance_uid exists, we must have study and series\n",
    "    if instance_uid:\n",
    "        return {'Accept':'application/dicom'}\n",
    "\n",
    "    #and so on with series\n",
    "    if series_uid:\n",
    "        return {'Accept':'multipart/related; type=\"application/dicom\"; transfer-syntax=*'}\n",
    "\n",
    "    #must have at least the study\n",
    "    return {'Accept':'multipart/related; type=\"application/dicom\"; transfer-syntax=*'}\n",
    "\n"
   ]
  },
  {
   "cell_type": "markdown",
   "metadata": {},
   "source": [
    "When calling a DICOMweb endpoint, it's often useful to gather information about the request/response HTTP that was made. `get_http_response_dict` parses a Requests or HTTPX request and returns an ordered dict with information about the REST call."
   ]
  },
  {
   "cell_type": "code",
   "execution_count": null,
   "metadata": {},
   "outputs": [],
   "source": [
    "#export\n",
    "def get_http_response_dict(self, response, is_binary = False, filename=None):\n",
    "    d = OrderedDict()   # create a new ordered dictionary\n",
    "    r = response\n",
    "\n",
    "    # Add the information to the dictionary\n",
    "    if filename:\n",
    "        d['fname'] = str(filename)     \n",
    "    d['method'] = r.request.method\n",
    "    d['url'] = r.url\n",
    "    d['path_url'] = r.request.path_url\n",
    "    d['request_headers'] = str(r.request.headers) \n",
    "    if r.request.body:\n",
    "        d['request_body_trimmed'] = r.request.body[0:150]   \n",
    "\n",
    "    d['ok'] = r.ok\n",
    "    d['status_code'] = r.status_code  \n",
    "    d['reason'] = r.reason\n",
    "    d['response_headers'] = r.headers\n",
    "    if not is_binary:\n",
    "        d['response_text'] = r.text  \n",
    "        d['apparent_encoding'] = r.apparent_encoding\n",
    "        d['encoding'] = r.encoding\n",
    "    d['elapsed_time'] = r.elapsed\n",
    "\n",
    "    return d  "
   ]
  },
  {
   "cell_type": "code",
   "execution_count": null,
   "metadata": {},
   "outputs": [],
   "source": []
  }
 ],
 "metadata": {
  "kernelspec": {
   "display_name": "Python 3",
   "language": "python",
   "name": "python3"
  }
 },
 "nbformat": 4,
 "nbformat_minor": 2
}
